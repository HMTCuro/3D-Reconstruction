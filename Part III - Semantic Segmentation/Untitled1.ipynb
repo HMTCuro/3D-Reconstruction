{
 "cells": [
  {
   "cell_type": "code",
   "execution_count": null,
   "metadata": {},
   "outputs": [],
   "source": [
    "import cv2 as cv\n",
    "import numpy as np\n",
    "\n",
    "def process_name(index):\n",
    "    if index < 10:\n",
    "        res = \"0000000\" + str(index) + \".png\"\n",
    "    elif index >= 10 and index < 100:\n",
    "        res = \"000000\" + str(index) + \".png\"\n",
    "    elif index >= 100 and index < 1000:\n",
    "        res = \"00000\" + str(index) + \".png\"\n",
    "    return res\n",
    "\n",
    "for i in range(434):\n",
    "    print(process_name(i))\n",
    "    img_dir = \"colored_dongbeiya/colored_\" + process_name(i)\n",
    "    source_img = cv.imread(img_dir)\n",
    "    out_dir = \"colored_dongbeiya/colored_\" + process_name(i)\n",
    "    cv.imwrite(out_dir, img_resize)"
   ]
  }
 ],
 "metadata": {
  "kernelspec": {
   "display_name": "Python 3",
   "language": "python",
   "name": "python3"
  },
  "language_info": {
   "codemirror_mode": {
    "name": "ipython",
    "version": 3
   },
   "file_extension": ".py",
   "mimetype": "text/x-python",
   "name": "python",
   "nbconvert_exporter": "python",
   "pygments_lexer": "ipython3",
   "version": "3.6.8"
  }
 },
 "nbformat": 4,
 "nbformat_minor": 4
}
