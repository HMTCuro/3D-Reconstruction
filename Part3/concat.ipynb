{
 "cells": [
  {
   "cell_type": "code",
   "execution_count": 11,
   "metadata": {},
   "outputs": [
    {
     "name": "stdout",
     "output_type": "stream",
     "text": [
      "out_00000414\n",
      "out_00000415\n",
      "out_00000416\n",
      "out_00000417\n",
      "out_00000418\n",
      "out_00000419\n",
      "out_00000420\n",
      "out_00000421\n",
      "out_00000422\n",
      "out_00000423\n",
      "out_00000424\n",
      "out_00000425\n",
      "out_00000426\n",
      "out_00000427\n",
      "out_00000428\n",
      "out_00000429\n",
      "out_00000430\n",
      "out_00000431\n",
      "out_00000432\n",
      "out_00000433\n"
     ]
    }
   ],
   "source": [
    "import cv2 as cv\n",
    "import numpy as np\n",
    "from copy import deepcopy\n",
    "\n",
    "def process_name(index):\n",
    "    if index < 10:\n",
    "        res = \"out_0000000\" + str(index)\n",
    "    elif index >= 10 and index < 100:\n",
    "        res = \"out_000000\" + str(index)\n",
    "    elif index >= 100 and index < 1000:\n",
    "        res = \"out_00000\" + str(index)\n",
    "    return res\n",
    "\n",
    "for k in range(414, 434):\n",
    "    print(process_name(k))\n",
    "    h, w = 3000, 4000\n",
    "    h_block, w_block = 600, 800\n",
    "    img = np.zeros((h, w, 3), np.uint8)\n",
    "    for i in range(h // h_block):\n",
    "        for j in range(w // w_block):\n",
    "#             print(i, j, i * w // w_block + j)\n",
    "            img_dir = \"seg_out_dongbeiya_block/\" + process_name(k) + \"_\" + str(i * w // w_block + j) + \".png\"\n",
    "            block = cv.imread(img_dir)\n",
    "            img[i * h_block:i * h_block + h_block, j * w_block:j * w_block + w_block] = deepcopy(block)\n",
    "    out_dir = \"seg_out_dongbeiya_2/\" + process_name(k) + \".png\"\n",
    "    cv.imwrite(out_dir, img)\n"
   ]
  },
  {
   "cell_type": "code",
   "execution_count": null,
   "metadata": {},
   "outputs": [],
   "source": []
  }
 ],
 "metadata": {
  "kernelspec": {
   "display_name": "Python 3",
   "language": "python",
   "name": "python3"
  },
  "language_info": {
   "codemirror_mode": {
    "name": "ipython",
    "version": 3
   },
   "file_extension": ".py",
   "mimetype": "text/x-python",
   "name": "python",
   "nbconvert_exporter": "python",
   "pygments_lexer": "ipython3",
   "version": "3.6.8"
  }
 },
 "nbformat": 4,
 "nbformat_minor": 4
}
